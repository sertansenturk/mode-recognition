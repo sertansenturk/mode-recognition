{
 "cells": [
  {
   "cell_type": "code",
   "execution_count": 1,
   "metadata": {
    "collapsed": false
   },
   "outputs": [],
   "source": [
    "import sys\n",
    "sys.path.insert(0, '../ModeTonicEstimation/')\n",
    "\n",
    "from fileoperations.fileoperations import getFileNamesInDir\n",
    "\n",
    "import json\n",
    "import os\n",
    "import matplotlib.pyplot as plt\n",
    "import copy\n",
    "import numpy as np\n",
    "from ModeTonicEstimation import Chordia\n",
    "from ModeTonicEstimation import Evaluator as ev\n",
    "import ModeTonicEstimation.ModeFunctions as mf\n"
   ]
  },
  {
   "cell_type": "code",
   "execution_count": 2,
   "metadata": {
    "collapsed": false,
    "scrolled": true
   },
   "outputs": [],
   "source": [
    "# I/O\n",
    "base_dir = '../../test_datasets/RagaRecognition_journal'\n",
    "tradition_dir = 'hindustani'  # possible: makam, carnatic, hindustani\n",
    "num_class_dir = '30_classes'  # possible: 5, 10, 15, 20, 25, 30\n",
    "\n",
    "data_dir = os.path.join(base_dir, tradition_dir)\n",
    "\n",
    "experiment_dir = os.path.join(base_dir, 'fileLists', tradition_dir, num_class_dir)\n",
    "experiment_file = getFileNamesInDir(experiment_dir, keyword='*.json')[0][0]\n"
   ]
  },
  {
   "cell_type": "code",
   "execution_count": 3,
   "metadata": {
    "collapsed": false
   },
   "outputs": [],
   "source": [
    "experiments = json.load(open(experiment_file, 'r'))\n",
    "\n",
    "audio_files = [os.path.join(data_dir,e[2]) for e in experiments]\n",
    "pitch_files = [os.path.join(data_dir,e[2]+'.pitch') for e in experiments]\n",
    "audio_mbids = [e[0] for e in experiments]\n",
    "audio_tonics = [np.loadtxt(p+'.tonicFine') for p in audio_files]\n",
    "audio_labels = [e[1] for e in experiments]\n",
    "\n",
    "unique_labels = set(audio_labels)\n"
   ]
  },
  {
   "cell_type": "code",
   "execution_count": null,
   "metadata": {
    "collapsed": false
   },
   "outputs": [],
   "source": [
    "# define feature extraction code: compute the pcd's of all recordings\n",
    "def getPCD(pitchfile, tonic_freq):\n",
    "    pitch_track = np.loadtxt(pitchfile)\n",
    "    if pitch_track.ndim > 1:  # assume the first col is time, the second is pitch and the rest is labels etc\n",
    "        pitch_track = pitch_track[:,1]\n",
    "\n",
    "    # Each chunk is converted to cents\n",
    "    pitch_cent = mf.hz_to_cent(pitch_track, ref_freq=tonic_freq)\n",
    "\n",
    "    # PitchDistribution of the current chunk is generated\n",
    "    pd = mf.generate_pd(pitch_cent, ref_freq=tonic_freq, \n",
    "                        smooth_factor=10.0, step_size=10.0,\n",
    "                        source=pitchfile)\n",
    "    return mf.generate_pcd(pd)\n"
   ]
  },
  {
   "cell_type": "code",
   "execution_count": null,
   "metadata": {
    "collapsed": false
   },
   "outputs": [
    {
     "name": "stdout",
     "output_type": "stream",
     "text": [
      "0 Extracting PCD of 7ed38940-f5e5-46cb-897d-ed408ddf8c85\n",
      "1 Extracting PCD of 9117fa28-df28-4bb8-a0e3-b70e60fed262\n",
      "2 Extracting PCD of 04d506c4-df9e-410c-a3e2-037abffe7b9c\n",
      "3 Extracting PCD of 30261aa8-aa4d-4f66-a2d4-b087668b00a8\n",
      "4 Extracting PCD of f5689624-b636-4a6c-831f-53d1678d9bb6\n",
      "5 Extracting PCD of 3766bcb1-57b6-4c16-9196-c2ed94d80331\n",
      "6 Extracting PCD of 3d0539f5-2d30-422f-9647-b3e14fd9787d\n",
      "7 Extracting PCD of c53396aa-f369-4875-8c61-3f29787da6f5\n",
      "8 Extracting PCD of b22390c8-88bb-4e1f-9e23-bd3e237043ba\n",
      "9 Extracting PCD of 0017d78e-a39d-4151-8d93-826ab2eb00d8\n",
      "10 Extracting PCD of 3fc7b071-68c7-4a5a-bed5-7da6301931f4\n",
      "11 Extracting PCD of f149cad0-c5af-48d6-a726-ef3badb0169a\n",
      "12 Extracting PCD of f5d3cea0-50ad-461f-9aa2-20f2434ae1e8\n",
      "13 Extracting PCD of 980b4a00-6e7c-41c1-81ee-6b021d237343\n",
      "14 Extracting PCD of 99f1a318-f246-40cb-86b9-3639344be94d\n",
      "15 Extracting PCD of 64587462-6f9f-4439-8b48-6375a4fb1f6a\n",
      "16 Extracting PCD of 4a507000-6c5a-4c8b-8922-1bfc29cba805\n",
      "17 Extracting PCD of 52944bc0-4639-4760-be76-f2720a20be81\n",
      "18 Extracting PCD of 2d207bf5-90cf-4d74-8703-b3b0d52a531f\n",
      "19 Extracting PCD of 5233f93f-4f1c-4ba1-9d3f-3d47a5f81d2e\n",
      "20 Extracting PCD of a0052c33-34b7-4e68-9dcd-121410c6ce36\n",
      "21 Extracting PCD of 89224046-f086-4530-b2a3-70f9ae697faf\n",
      "22 Extracting PCD of 7084ac88-542c-4e84-8eda-dc9735201d18\n",
      "23 Extracting PCD of a5b15aae-c911-4df5-944d-1d0d95b8b5b0\n",
      "24 Extracting PCD of 31bc8850-a7cb-4a9f-bb4f-863e0e88728f\n",
      "25 Extracting PCD of c35ea067-d200-40b6-ad61-241b206c97ed\n",
      "26 Extracting PCD of 6c0c6e87-c78c-44df-8955-3595575a06a7\n",
      "27 Extracting PCD of 1174dd02-87d2-4be3-bae1-d222b8a5f5a4\n",
      "28 Extracting PCD of e516312d-00c4-4ccc-8875-9c84f0f30207\n",
      "29 Extracting PCD of 57db6960-6038-4b48-b22f-a10d22752767\n",
      "30 Extracting PCD of 49e7d75c-484c-4002-9532-5717a4e30fe0\n",
      "31 Extracting PCD of 354c38e3-c71b-4dd6-bc77-deb629ad14b9\n",
      "32 Extracting PCD of 7711d588-1c7a-4756-8793-2aa5d32bfffb\n",
      "33 Extracting PCD of e05c9807-4b3a-4532-b6cf-aa560ee07dad\n",
      "34 Extracting PCD of 211c010f-7ae5-4ca6-a909-f10afed265c5\n",
      "35 Extracting PCD of 68ecc764-b0da-4919-affe-8a50d558cbbf\n",
      "36 Extracting PCD of c1aba7b7-cd7a-4e6c-90e7-798b617bfdc9\n",
      "37 Extracting PCD of ff70a092-0893-4836-a2a2-7ea654d171c9\n",
      "38 Extracting PCD of 67b90abb-08cb-4473-9224-343b21e4681a\n",
      "39 Extracting PCD of b2456c14-8db5-4d11-bf23-ec360b33d242\n",
      "40 Extracting PCD of bb7a967a-4bb8-4cb8-9075-f2da540628e0\n",
      "41 Extracting PCD of 8aeccac0-75b0-4397-92b6-7bcfa0c427cc\n",
      "42 Extracting PCD of 66dcff23-bcf4-4a32-82fb-e6bb679c0d5d\n",
      "43 Extracting PCD of f227efaa-652f-48e1-b57e-6fe6fea16fe4\n",
      "44 Extracting PCD of 2331050f-b7cf-46d5-a700-c7503539d7c5\n",
      "45 Extracting PCD of b142b865-8995-4ce5-aa98-4e0fc7d99d94\n",
      "46 Extracting PCD of 19b66d55-98b3-4157-b680-6a0f17fce925\n",
      "47 Extracting PCD of 06cc10fd-d57e-4581-9627-ee7422c273dd\n",
      "48 Extracting PCD of 56a5f6b7-67c0-4672-8eb5-4800ea004251\n",
      "49 Extracting PCD of 7feb93f7-eaa4-42d5-b366-709fd1dbbc2c\n",
      "50 Extracting PCD of afe4855b-9b3e-477a-944a-251b6bb7dd97\n",
      "51 Extracting PCD of bf3e009b-5d36-46a2-8fde-3c019c9fef1a\n",
      "52 Extracting PCD of 1d378f5b-33ac-47ae-9219-a03a394de1b9\n",
      "53 Extracting PCD of 58ffbe74-0145-48b9-bc41-fa9e4b3a59cc\n",
      "54 Extracting PCD of c12784d9-c5d7-4883-adae-8140551480c4\n",
      "55 Extracting PCD of c6dfc5f0-34cb-4d1e-90a0-712a845beb38\n",
      "56 Extracting PCD of 186b62f6-3073-4817-a075-439cad73305c\n",
      "57 Extracting PCD of 897f4174-24be-493a-be1c-57fd3c018601\n",
      "58 Extracting PCD of 6cb0fc24-76bf-48a8-8a45-8552b70127ea\n",
      "59 Extracting PCD of 47b78e45-4a67-49e7-94db-aac7fc8a3db7\n",
      "60 Extracting PCD of bfefde58-4eb2-49b0-9c63-7e4ce1070e61\n",
      "61 Extracting PCD of dd42bbc9-4ec1-4881-81df-8b6813d460cf\n",
      "62 Extracting PCD of 77c887ad-de19-45b8-b83f-37446eae378d\n",
      "63 Extracting PCD of 157f546c-90c8-4b3b-a72c-42fa5b0dd820\n",
      "64 Extracting PCD of 809196fd-2e16-435e-9d18-6c6132da0797\n",
      "65 Extracting PCD of a3479fbe-fea4-4db7-9c1f-8b4ca613e5f0\n",
      "66 Extracting PCD of 8cee9d53-b105-45bc-bd1d-4a608d59b2fd\n",
      "67 Extracting PCD of 64a44651-dab9-4ee1-a49e-dcca4cf67c53\n",
      "68 Extracting PCD of 833a49b0-cb9e-41e5-b341-ab718e03b97c\n",
      "69 Extracting PCD of 82b207d0-a974-4c45-bf48-79bda319c985\n",
      "70 Extracting PCD of 3d6dc834-550d-4eb5-87f9-6e57747f3cb1\n",
      "71 Extracting PCD of 10224082-7d00-4839-b430-c8110686ec64\n",
      "72 Extracting PCD of 88b004be-6280-402b-a178-07efd6285326\n",
      "73 Extracting PCD of 9ff5e2dd-7c77-492d-9aa1-09508fe595b9\n",
      "74 Extracting PCD of d9a79389-f4b4-4d66-920c-494525b3417e\n",
      "75 Extracting PCD of bb6a5ac4-9e42-49b2-bec4-58e1aff53230\n",
      "76 Extracting PCD of 5b640af5-26f6-4a02-81e5-d28cd01e9149\n",
      "77 Extracting PCD of 4519091e-9eaa-4f03-911e-348727ee3c90\n",
      "78 Extracting PCD of c853d66a-7f61-42ef-8373-94798bde90a6\n",
      "79 Extracting PCD of dbfa7e22-4432-4db5-8ec6-8482b97bcea9\n",
      "80 Extracting PCD of c76cadd9-9e7b-4e9e-96dc-f79a9a8eed78\n",
      "81 Extracting PCD of a7a805ef-66c7-47aa-ad38-371c13fa3761\n",
      "82 Extracting PCD of a2c54654-2699-489a-95ab-623fc903281a\n",
      "83 Extracting PCD of fe984e34-eae6-4dcf-bf70-159923c26fe6\n",
      "84 Extracting PCD of 72b3199c-c49d-4f50-b959-e1bf6abab98e\n",
      "85 Extracting PCD of e59642ca-72bc-466b-bf4b-d82bfbc7b4af\n",
      "86 Extracting PCD of 37c79233-b5d7-4517-a393-37784702c4ce\n",
      "87 Extracting PCD of 6acdbda5-8c44-4dd4-8aea-dc024c7f65b6\n",
      "88 Extracting PCD of e2bfec5e-df30-42b5-9157-e4fd102a78a6\n",
      "89 Extracting PCD of aa93fca9-362d-4ea4-952f-65006746b888\n",
      "90 Extracting PCD of 2fd571a1-ca82-4ca6-9c41-39c2fe31d43f\n",
      "91 Extracting PCD of d2ca91e0-74d1-4c68-b7c9-4dec57ef526b\n",
      "92 Extracting PCD of 72df913b-ac52-4798-990d-72e04a64bd8c\n",
      "93 Extracting PCD of e79f2c5f-ceee-4402-a0d6-2c75d3055d4b\n",
      "94 Extracting PCD of 7704b0d2-eeac-47e4-ba05-c541a91eb621\n",
      "95 Extracting PCD of 9a2ce15a-4b28-4d10-abc7-9e05310c2e3b\n",
      "96 Extracting PCD of c9c6dedd-4e86-4e0e-a5ea-0911cd8f5814\n",
      "97 Extracting PCD of 1472bfc9-acc9-4e25-9300-7cdff8df1575\n",
      "98 Extracting PCD of adb5c888-68cb-4456-811c-f282aeee3713\n",
      "99 Extracting PCD of eb3a6211-0062-4043-bd43-c7e84da353e9\n",
      "100 Extracting PCD of 98afad39-5abc-4c96-b7af-5f2c70831066\n",
      "101 Extracting PCD of 6504d224-d5e7-4353-841f-47adfcda0bd3\n",
      "102 Extracting PCD of 66de36d2-f8b5-44aa-b586-ce75bd665a46\n",
      "103 Extracting PCD of c6232a25-3f5a-4394-a85c-43dc1efcc1de\n",
      "104 Extracting PCD of 3c6fa59c-a492-4e76-a3f0-be3e81053ca5\n",
      "105 Extracting PCD of 7081d924-c8e4-4216-9e69-ca397c10550b\n",
      "106 Extracting PCD of c568bab8-7653-4252-a4d9-aebcc26fc752"
     ]
    }
   ],
   "source": [
    "# PCD extraction\n",
    "for i, (pf, tf, am) in enumerate(zip(pitch_files, audio_tonics, audio_mbids)):\n",
    "    print str(i) + \" Extracting PCD of \" + am\n",
    "    # save path\n",
    "    save_folder, temp_name = os.path.split(pf)\n",
    "    save_name = os.path.splitext(temp_name)[0] + '.pcd'\n",
    "    save_path = os.path.join(save_folder, save_name)\n",
    "    \n",
    "    if not os.path.isfile(save_path):\n",
    "        pcd = getPCD(pf, tf)\n",
    "        pcd.save(save_path)\n",
    "    "
   ]
  },
  {
   "cell_type": "code",
   "execution_count": null,
   "metadata": {
    "collapsed": false
   },
   "outputs": [],
   "source": []
  },
  {
   "cell_type": "code",
   "execution_count": null,
   "metadata": {
    "collapsed": false
   },
   "outputs": [],
   "source": [
    "# divide training & testing (leave-one-out)\n",
    "training_files = copy.deepcopy(audio_files)\n",
    "training_pitch_files = copy.deepcopy(pitch_files)\n",
    "training_mbids = copy.deepcopy(audio_mbids)\n",
    "training_tonics = copy.deepcopy(audio_tonics)\n",
    "training_labels = copy.deepcopy(audio_labels)\n",
    "\n",
    "# pop the test audio from the training\n",
    "test_file = training_files.pop(idx)\n",
    "test_pitch_file = training_pitch_files.pop(idx)\n",
    "test_mbid = training_mbids.pop(idx)\n",
    "test_tonic = training_tonics.pop(idx)\n",
    "test_label = training_labels.pop(idx)\n",
    "\n",
    "model_save_dir = os.path.join(experiment_dir, 'chordia', test_mbid)\n"
   ]
  },
  {
   "cell_type": "code",
   "execution_count": null,
   "metadata": {
    "collapsed": false
   },
   "outputs": [],
   "source": [
    "# instantiate objects\n",
    "che = Chordia.Chordia(step_size=10, smooth_factor=15,\n",
    "                      chunk_size=0, threshold=0.5, \n",
    "                      overlap=0, frame_rate=196.0/44100)\n"
   ]
  },
  {
   "cell_type": "code",
   "execution_count": null,
   "metadata": {
    "collapsed": false,
    "scrolled": true
   },
   "outputs": [],
   "source": [
    "# Training \n",
    "models = dict()\n",
    "for label in unique_labels:\n",
    "    print '   Training label: ' + label\n",
    "    model_file = os.path.join(model_save_dir, label+'.json')\n",
    "    try:\n",
    "        models[label] = che.load_collection(label, model_save_dir)\n",
    "    except IOError:\n",
    "        models[label] = che.train(label, training_pitch_files, training_tonics, \n",
    "                                  metric='pcd', save_dir = model_save_dir)\n"
   ]
  },
  {
   "cell_type": "code",
   "execution_count": null,
   "metadata": {
    "collapsed": false
   },
   "outputs": [],
   "source": [
    "# Testing \n",
    "print 'Testing audio: ' + test_mbid\n",
    "res = che.estimate(test_pitch_file, mode_names=list(unique_labels), \n",
    "                   mode_dir=model_save_dir, est_mode=True, \n",
    "                   distance_method='bhat',\n",
    "                   metric='pcd', tonic_freq=test_tonic)[0]\n",
    "\n",
    "print res == test_label"
   ]
  },
  {
   "cell_type": "code",
   "execution_count": null,
   "metadata": {
    "collapsed": true
   },
   "outputs": [],
   "source": [
    "# evaluation\n",
    "evaluator = ev.Evaluator()\n"
   ]
  },
  {
   "cell_type": "code",
   "execution_count": null,
   "metadata": {
    "collapsed": false
   },
   "outputs": [],
   "source": [
    "# # get the data into appropriate format\n",
    "# [pitch_paths, pitch_base, pitch_fname] = fo.getFileNamesInDir(data_dir, '.pitch')\n",
    "# tonic_paths = [os.path.splitext(p)[0] + '.tonic' for p in pitch_paths]\n",
    "# mode_labels = []\n",
    "# for p in pitch_base:\n",
    "#     for r in modes:\n",
    "#         if r in p:\n",
    "#             mode_labels.append(r)\n",
    "            "
   ]
  },
  {
   "cell_type": "code",
   "execution_count": null,
   "metadata": {
    "collapsed": false
   },
   "outputs": [],
   "source": [
    "# # make the data a single dictionary for housekeeping\n",
    "# data = []\n",
    "# for p, f, t, r in zip(pitch_paths, pitch_fname, tonic_paths, mode_labels):\n",
    "#     data.append({'file':p, 'name':os.path.splitext(f)[0],\n",
    "#                'tonic':float(np.loadtxt(t)), 'mode':r})\n"
   ]
  },
  {
   "cell_type": "code",
   "execution_count": null,
   "metadata": {
    "collapsed": false
   },
   "outputs": [],
   "source": [
    "# # experiments\n",
    "# results = dict()\n",
    "# for key, fold in folds.iteritems():\n",
    "#     # Training \n",
    "#     print key\n",
    "#     models = dict()\n",
    "#     for cur_mode in modes:\n",
    "#         [file_list, tonic_list] = zip(*[(rec['file'], rec['tonic']) for rec in fold['train']\n",
    "#                                         if rec['mode'] == cur_mode])\n",
    "#         models[cur_mode] = che.train(cur_mode, file_list, tonic_list, metric='pcd', \n",
    "#                                      save_dir = os.path.join(train_savefolder, key))\n",
    "                                     \n",
    "#     # Raag Recognition\n",
    "#     results[key] = []\n",
    "#     for rec in fold['test']:\n",
    "#         rec['pitch'] = np.loadtxt(rec['file'])[:,1]\n",
    "#         res = che.estimate(rec['pitch'], mode_names=modes, \n",
    "#                            mode_dir=os.path.join(train_savefolder, key), \n",
    "#                            est_tonic=False, est_mode=True, distance_method='bhat',\n",
    "#                            metric='pcd', ref_freq=rec['tonic'])[0]\n",
    "\n",
    "#         # evaluate\n",
    "#         results[key].append(evaluator.mode_evaluate(rec['file'], res, rec['mode']))\n",
    "\n",
    "#     print key + \": \" + str(100*np.mean([r['mode_eval'] for r in results[key]])) + '%'\n",
    "    "
   ]
  },
  {
   "cell_type": "code",
   "execution_count": null,
   "metadata": {
    "collapsed": true
   },
   "outputs": [],
   "source": []
  }
 ],
 "metadata": {
  "kernelspec": {
   "display_name": "Python 2",
   "language": "python",
   "name": "python2"
  },
  "language_info": {
   "codemirror_mode": {
    "name": "ipython",
    "version": 2
   },
   "file_extension": ".py",
   "mimetype": "text/x-python",
   "name": "python",
   "nbconvert_exporter": "python",
   "pygments_lexer": "ipython2",
   "version": "2.7.6"
  }
 },
 "nbformat": 4,
 "nbformat_minor": 0
}
