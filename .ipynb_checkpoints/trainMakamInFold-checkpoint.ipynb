{
 "cells": [
  {
   "cell_type": "code",
   "execution_count": 1,
   "metadata": {
    "collapsed": false
   },
   "outputs": [],
   "source": [
    "import sys\n",
    "sys.path.insert(0, '../ModeTonicRecognition/')\n",
    "\n",
    "import json\n",
    "import os\n",
    "from extras import foldGeneration\n",
    "from extras import fileOperations as fo\n",
    "import numpy as np\n",
    "import ChordiaEstimation"
   ]
  },
  {
   "cell_type": "code",
   "execution_count": 2,
   "metadata": {
    "collapsed": false
   },
   "outputs": [],
   "source": [
    "# I/O\n",
    "base_dir = '../../experiments/raag-recognition/'\n",
    "data_dir = os.path.join(base_dir,'data')\n",
    "experiments_dir = os.path.join(base_dir, 'experiments')\n",
    "modes = fo.getModeNames(data_dir)\n",
    "\n",
    "input_num = int(sys.argv[1])\n",
    "\n",
    "che = ChordiaEstimation.ChordiaEstimation(step_size=10, smooth_factor=15, \n",
    "                                          chunk_size=120, threshold=0.5, \n",
    "                                          overlap=0, frame_rate=128.0/44100)"
   ]
  },
  {
   "cell_type": "code",
   "execution_count": 3,
   "metadata": {
    "collapsed": true
   },
   "outputs": [],
   "source": [
    "# indexing\n",
    "n_exp = 20\n",
    "n_folds = 14\n",
    "n_modes = len(modes)  # 10 raagas\n",
    "\n",
    "mode_idx = np.unravel_index(input_num, [n_exp, n_folds, n_modes])"
   ]
  },
  {
   "cell_type": "code",
   "execution_count": 6,
   "metadata": {
    "collapsed": false
   },
   "outputs": [],
   "source": [
    "# create load the raag from the experiment & fold corresponding to the input index\n",
    "foldFile = os.path.join(experiments_dir, 'exp' + str(mode_idx[0]), 'folds.json')\n",
    "with open(foldFile) as f:\n",
    "    folds = json.load(f)\n",
    "        \n",
    "makamTrain_dict = folds['fold'+str(mode_idx[1])]['train']\n"
   ]
  },
  {
   "cell_type": "code",
   "execution_count": 7,
   "metadata": {
    "collapsed": false
   },
   "outputs": [],
   "source": [
    "cur_mode = modes[mode_idx[2]]        \n",
    "[file_list, tonic_list] = zip(*[(rec['file'], rec['tonic']) for rec in makamTrain_dict\n",
    "                                if rec['mode'] == cur_mode])\n",
    "\n",
    "train_savefolder = os.path.join(experiments_dir, 'exp' + str(mode_idx[0]), \n",
    "                                'fold' + str(mode_idx[1]), 'train')\n",
    "model = che.train(cur_mode, file_list, tonic_list, metric='pcd', \n",
    "                             save_dir = train_savefolder)"
   ]
  },
  {
   "cell_type": "code",
   "execution_count": null,
   "metadata": {
    "collapsed": false
   },
   "outputs": [],
   "source": []
  },
  {
   "cell_type": "code",
   "execution_count": null,
   "metadata": {
    "collapsed": true
   },
   "outputs": [],
   "source": []
  },
  {
   "cell_type": "code",
   "execution_count": null,
   "metadata": {
    "collapsed": true
   },
   "outputs": [],
   "source": []
  }
 ],
 "metadata": {
  "kernelspec": {
   "display_name": "Python 2",
   "language": "python",
   "name": "python2"
  },
  "language_info": {
   "codemirror_mode": {
    "name": "ipython",
    "version": 2
   },
   "file_extension": ".py",
   "mimetype": "text/x-python",
   "name": "python",
   "nbconvert_exporter": "python",
   "pygments_lexer": "ipython2",
   "version": "2.7.9"
  }
 },
 "nbformat": 4,
 "nbformat_minor": 0
}
