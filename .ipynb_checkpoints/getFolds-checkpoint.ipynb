{
 "cells": [
  {
   "cell_type": "code",
   "execution_count": 1,
   "metadata": {
    "collapsed": false
   },
   "outputs": [],
   "source": [
    "import sys\n",
    "sys.path.insert(0, '../ModeTonicRecognition/')\n",
    "\n",
    "import json\n",
    "import os\n",
    "from extras import foldGeneration\n",
    "from extras import fileOperations as fo\n",
    "import numpy as np\n",
    "from sklearn import cross_validation\n"
   ]
  },
  {
   "cell_type": "code",
   "execution_count": 2,
   "metadata": {
    "collapsed": false
   },
   "outputs": [],
   "source": [
    "# I/O\n",
    "base_dir = '../../experiments/raag-recognition/'\n",
    "data_dir = os.path.join(base_dir,'data')\n",
    "experiments_dir = os.path.join(base_dir, 'experiments')\n",
    "modes = fo.getModeNames(data_dir)\n",
    "\n",
    "n_exp = 20\n",
    "n_folds = 14"
   ]
  },
  {
   "cell_type": "code",
   "execution_count": 3,
   "metadata": {
    "collapsed": false
   },
   "outputs": [],
   "source": [
    "# get the data into appropriate format\n",
    "[pitch_paths, pitch_base, pitch_fname] = fo.getFileNamesInDir(data_dir, '.pitch')\n",
    "tonic_paths = [os.path.splitext(p)[0] + '.tonic' for p in pitch_paths]\n",
    "mode_labels = []\n",
    "for p in pitch_base:\n",
    "    for r in modes:\n",
    "        if r in p:\n",
    "            mode_labels.append(r)\n",
    "            "
   ]
  },
  {
   "cell_type": "code",
   "execution_count": 4,
   "metadata": {
    "collapsed": false
   },
   "outputs": [],
   "source": [
    "# make the data a single dictionary for housekeeping\n",
    "data = []\n",
    "for p, f, t, r in zip(pitch_paths, pitch_fname, tonic_paths, mode_labels):\n",
    "    data.append({'file':p, 'name':os.path.splitext(f)[0],\n",
    "               'tonic':float(np.loadtxt(t)), 'mode':r})\n"
   ]
  },
  {
   "cell_type": "code",
   "execution_count": 5,
   "metadata": {
    "collapsed": false
   },
   "outputs": [
    {
     "name": "stdout",
     "output_type": "stream",
     "text": [
      "Created the folds for Experiment 0\n",
      "Created the folds for Experiment 1\n",
      "Created the folds for Experiment 2\n",
      "Created the folds for Experiment 3\n",
      "Created the folds for Experiment 4\n",
      "Created the folds for Experiment 5\n",
      "Created the folds for Experiment 6\n",
      "Created the folds for Experiment 7\n",
      "Created the folds for Experiment 8\n",
      "Created the folds for Experiment 9\n",
      "Created the folds for Experiment 10\n",
      "Created the folds for Experiment 11\n",
      "Created the folds for Experiment 12\n",
      "Created the folds for Experiment 13\n",
      "Created the folds for Experiment 14\n",
      "Created the folds for Experiment 15\n",
      "Created the folds for Experiment 16\n",
      "Created the folds for Experiment 17\n",
      "Created the folds for Experiment 18\n",
      "Created the folds for Experiment 19\n"
     ]
    }
   ],
   "source": [
    "# create 20 stratified 14 fold \n",
    "mode_idx = [modes.index(m) for m in [d['mode'] for d in data]]\n",
    "\n",
    "for nn in xrange(0,n_exp):\n",
    "    skf = cross_validation.StratifiedKFold(mode_idx, n_folds=n_folds)\n",
    "\n",
    "    folds = dict()\n",
    "    for ff, fold in enumerate(skf):\n",
    "        folds['fold' + str(ff)] = {'train': [], 'test': []}\n",
    "        for tr_idx in fold[0]:\n",
    "            folds['fold' + str(ff)]['train'].append(data[tr_idx])\n",
    "        for te_idx in fold[1]:\n",
    "            folds['fold' + str(ff)]['test'].append(data[te_idx])\n",
    "\n",
    "    exp_dir = os.path.join(experiments_dir, 'exp' + str(nn))\n",
    "    if not os.path.exists(exp_dir):\n",
    "        os.makedirs(exp_dir)\n",
    "    \n",
    "    fold_savefile = os.path.join(exp_dir, 'folds.json')\n",
    "    with open(fold_savefile, 'w') as f:\n",
    "        json.dump(folds, f, indent=2)\n",
    "    \n",
    "    print \"Created the folds for Experiment \" + str(nn)"
   ]
  },
  {
   "cell_type": "code",
   "execution_count": null,
   "metadata": {
    "collapsed": true
   },
   "outputs": [],
   "source": []
  }
 ],
 "metadata": {
  "kernelspec": {
   "display_name": "Python 2",
   "language": "python",
   "name": "python2"
  },
  "language_info": {
   "codemirror_mode": {
    "name": "ipython",
    "version": 2
   },
   "file_extension": ".py",
   "mimetype": "text/x-python",
   "name": "python",
   "nbconvert_exporter": "python",
   "pygments_lexer": "ipython2",
   "version": "2.7.9"
  }
 },
 "nbformat": 4,
 "nbformat_minor": 0
}
