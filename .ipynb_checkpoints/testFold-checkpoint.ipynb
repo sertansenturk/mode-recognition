{
 "cells": [
  {
   "cell_type": "code",
   "execution_count": 3,
   "metadata": {
    "collapsed": false
   },
   "outputs": [],
   "source": [
    "import sys\n",
    "sys.path.insert(0, '../ModeTonicRecognition/')\n",
    "\n",
    "import json\n",
    "import os\n",
    "from extras import foldGeneration\n",
    "from extras import fileOperations as fo\n",
    "import numpy as np\n",
    "import ChordiaEstimation\n",
    "import Evaluator as ev\n"
   ]
  },
  {
   "cell_type": "code",
   "execution_count": 4,
   "metadata": {
    "collapsed": false
   },
   "outputs": [],
   "source": [
    "# I/O\n",
    "input_num = 0 # int(sys.argv[1])\n",
    "\n",
    "base_dir = '../../experiments/raag-recognition/'\n",
    "data_dir = os.path.join(base_dir,'data')\n",
    "experiments_dir = os.path.join(base_dir, 'experiments')\n",
    "modes = fo.getModeNames(data_dir)\n",
    "\n",
    "evaluator = ev.Evaluator()\n",
    "che = ChordiaEstimation.ChordiaEstimation(step_size=10, smooth_factor=15, \n",
    "                                          chunk_size=120, threshold=0.5, \n",
    "                                          overlap=0, frame_rate=128.0/44100)"
   ]
  },
  {
   "cell_type": "code",
   "execution_count": 5,
   "metadata": {
    "collapsed": false
   },
   "outputs": [],
   "source": [
    "# indexing\n",
    "n_exp = 20\n",
    "n_folds = 14\n",
    "\n",
    "mode_idx = np.unravel_index(input_num, [n_exp, n_folds])\n",
    "\n",
    "trainFolder = os.path.join(experiments_dir, 'exp' + str(mode_idx[0]), \n",
    "                           'fold' + str(mode_idx[1]), 'train')\n",
    "resultfile = os.path.join(experiments_dir, 'exp' + str(mode_idx[0]), \n",
    "                          'fold' + str(mode_idx[1]), 'results.json')"
   ]
  },
  {
   "cell_type": "code",
   "execution_count": 6,
   "metadata": {
    "collapsed": false
   },
   "outputs": [],
   "source": [
    "# create load the raag from the experiment & fold corresponding to the input index\n",
    "foldFile = os.path.join(experiments_dir, 'exp' + str(mode_idx[0]), 'folds.json')\n",
    "\n",
    "\n",
    "with open(foldFile) as f:\n",
    "    folds = json.load(f)\n",
    "        \n",
    "makamTestFiles = folds['fold'+str(mode_idx[1])]['test']\n"
   ]
  },
  {
   "cell_type": "code",
   "execution_count": 7,
   "metadata": {
    "collapsed": false
   },
   "outputs": [
    {
     "ename": "NameError",
     "evalue": "name 'key' is not defined",
     "output_type": "error",
     "traceback": [
      "\u001b[0;31m---------------------------------------------------------------------------\u001b[0m",
      "\u001b[0;31mNameError\u001b[0m                                 Traceback (most recent call last)",
      "\u001b[0;32m<ipython-input-7-c951294ac30a>\u001b[0m in \u001b[0;36m<module>\u001b[0;34m()\u001b[0m\n\u001b[1;32m     10\u001b[0m     \u001b[0mresults\u001b[0m\u001b[0;34m.\u001b[0m\u001b[0mappend\u001b[0m\u001b[0;34m(\u001b[0m\u001b[0mevaluator\u001b[0m\u001b[0;34m.\u001b[0m\u001b[0mmode_evaluate\u001b[0m\u001b[0;34m(\u001b[0m\u001b[0mrec\u001b[0m\u001b[0;34m[\u001b[0m\u001b[0;34m'file'\u001b[0m\u001b[0;34m]\u001b[0m\u001b[0;34m,\u001b[0m \u001b[0mres\u001b[0m\u001b[0;34m,\u001b[0m \u001b[0mrec\u001b[0m\u001b[0;34m[\u001b[0m\u001b[0;34m'mode'\u001b[0m\u001b[0;34m]\u001b[0m\u001b[0;34m)\u001b[0m\u001b[0;34m)\u001b[0m\u001b[0;34m\u001b[0m\u001b[0m\n\u001b[1;32m     11\u001b[0m \u001b[0;34m\u001b[0m\u001b[0m\n\u001b[0;32m---> 12\u001b[0;31m \u001b[0;32mprint\u001b[0m \u001b[0mkey\u001b[0m \u001b[0;34m+\u001b[0m \u001b[0;34m\": \"\u001b[0m \u001b[0;34m+\u001b[0m \u001b[0mstr\u001b[0m\u001b[0;34m(\u001b[0m\u001b[0;36m100\u001b[0m\u001b[0;34m*\u001b[0m\u001b[0mnp\u001b[0m\u001b[0;34m.\u001b[0m\u001b[0mmean\u001b[0m\u001b[0;34m(\u001b[0m\u001b[0;34m[\u001b[0m\u001b[0mr\u001b[0m\u001b[0;34m[\u001b[0m\u001b[0;34m'mode_eval'\u001b[0m\u001b[0;34m]\u001b[0m \u001b[0;32mfor\u001b[0m \u001b[0mr\u001b[0m \u001b[0;32min\u001b[0m \u001b[0mresults\u001b[0m\u001b[0;34m[\u001b[0m\u001b[0mkey\u001b[0m\u001b[0;34m]\u001b[0m\u001b[0;34m]\u001b[0m\u001b[0;34m)\u001b[0m\u001b[0;34m)\u001b[0m \u001b[0;34m+\u001b[0m \u001b[0;34m'%'\u001b[0m\u001b[0;34m\u001b[0m\u001b[0m\n\u001b[0m\u001b[1;32m     13\u001b[0m \u001b[0;34m\u001b[0m\u001b[0m\n\u001b[1;32m     14\u001b[0m \u001b[0;34m\u001b[0m\u001b[0m\n",
      "\u001b[0;31mNameError\u001b[0m: name 'key' is not defined"
     ]
    }
   ],
   "source": [
    "# Raag Recognition\n",
    "results = []\n",
    "for rec in makamTestFiles:\n",
    "    rec['pitch'] = np.loadtxt(rec['file'])[:,1]\n",
    "    res = che.estimate(rec['pitch'], mode_names=modes, mode_dir=trainFolder, \n",
    "                       est_tonic=False, est_mode=True, distance_method='bhat',\n",
    "                       metric='pcd', ref_freq=rec['tonic'])[0]\n",
    "\n",
    "    # evaluate\n",
    "    results.append(evaluator.mode_evaluate(rec['file'], res, rec['mode']))\n",
    "\n",
    "print('exp' + str(mode_idx[0]) + '_fold' + str(mode_idx[1]) + \":\" \n",
    "      \" \" + str(100*np.mean([r['mode_eval'] for r in results])) + '%')\n",
    "\n",
    "\n"
   ]
  },
  {
   "cell_type": "code",
   "execution_count": 11,
   "metadata": {
    "collapsed": false
   },
   "outputs": [
    {
     "name": "stdout",
     "output_type": "stream",
     "text": [
      "exp0_fold0: 80.0%\n"
     ]
    }
   ],
   "source": [
    "print('exp' + str(mode_idx[0]) + '_fold' + str(mode_idx[1]) + \":\" \n",
    "      \" \" + str(100*np.mean([r['mode_eval'] for r in results])) + '%')\n",
    "\n"
   ]
  },
  {
   "cell_type": "code",
   "execution_count": null,
   "metadata": {
    "collapsed": false
   },
   "outputs": [],
   "source": [
    "trainFolder"
   ]
  },
  {
   "cell_type": "code",
   "execution_count": null,
   "metadata": {
    "collapsed": true
   },
   "outputs": [],
   "source": []
  }
 ],
 "metadata": {
  "kernelspec": {
   "display_name": "Python 2",
   "language": "python",
   "name": "python2"
  },
  "language_info": {
   "codemirror_mode": {
    "name": "ipython",
    "version": 2
   },
   "file_extension": ".py",
   "mimetype": "text/x-python",
   "name": "python",
   "nbconvert_exporter": "python",
   "pygments_lexer": "ipython2",
   "version": "2.7.9"
  }
 },
 "nbformat": 4,
 "nbformat_minor": 0
}
